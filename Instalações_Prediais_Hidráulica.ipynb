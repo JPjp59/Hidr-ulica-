{
  "nbformat": 4,
  "nbformat_minor": 0,
  "metadata": {
    "colab": {
      "provenance": []
    },
    "kernelspec": {
      "name": "python3",
      "display_name": "Python 3"
    },
    "language_info": {
      "name": "python"
    }
  },
  "cells": [
    {
      "cell_type": "markdown",
      "source": [
        "##Dados:"
      ],
      "metadata": {
        "id": "9Yom-bMQ8wkE"
      }
    },
    {
      "cell_type": "code",
      "source": [
        "n_de_pessoas = 100\n",
        "consumo_por_pessoa = 100\n",
        "jornada_de_trabalho = 24\n",
        "\n",
        "coeficiente = 130"
      ],
      "metadata": {
        "id": "e54K4PTu8usa"
      },
      "execution_count": 5,
      "outputs": []
    },
    {
      "cell_type": "markdown",
      "source": [
        "## 1º Passo: Consumo Total"
      ],
      "metadata": {
        "id": "ZevkiN6-8VVZ"
      }
    },
    {
      "cell_type": "code",
      "execution_count": 10,
      "metadata": {
        "colab": {
          "base_uri": "https://localhost:8080/"
        },
        "id": "_DEaU5Vj72jE",
        "outputId": "d23cd5b8-bbf9-4f3e-a332-f4ebcd03f16f"
      },
      "outputs": [
        {
          "output_type": "stream",
          "name": "stdout",
          "text": [
            "10000 Litros/hora\n",
            "Vazão: 0.0001 m³/s\n"
          ]
        }
      ],
      "source": [
        "consumo_total = n_de_pessoas*consumo_por_pessoa\n",
        "\n",
        "print(f\"{consumo_total} Litros/hora\")\n",
        "\n",
        "consumo_total_pela_jornada = consumo_total/jornada_de_trabalho\n",
        "\n",
        "consumo_total_ms = consumo_total_pela_jornada/3600/1000\n",
        "\n",
        "print(f\"Vazão: {consumo_total_ms:.4f} m³/s\")\n"
      ]
    },
    {
      "cell_type": "markdown",
      "source": [
        "## 2º Passo: Diâmetro"
      ],
      "metadata": {
        "id": "22vBW4Wb-4U2"
      }
    },
    {
      "cell_type": "code",
      "source": [
        "import math\n",
        "\n",
        "velocidade = 1\n",
        "\n",
        "diametro = math.sqrt(4*consumo_total_ms/(math.pi)*velocidade)\n",
        "\n",
        "print(f\"O diâmetro é de {diametro:.4f}m ou {diametro*1000:.0f} mm\")"
      ],
      "metadata": {
        "colab": {
          "base_uri": "https://localhost:8080/"
        },
        "id": "vyXi7QpX_Ayo",
        "outputId": "6463b726-c335-4e99-d550-1d1f6dfce5ef"
      },
      "execution_count": 9,
      "outputs": [
        {
          "output_type": "stream",
          "name": "stdout",
          "text": [
            "O diâmetro é de 0.0121m ou 12 mm\n"
          ]
        }
      ]
    },
    {
      "cell_type": "code",
      "source": [
        "#Passar para Diâmetro comercial\n",
        "\n",
        "Dcomecial ="
      ],
      "metadata": {
        "id": "MwrIhEFtaw8O"
      },
      "execution_count": null,
      "outputs": []
    },
    {
      "cell_type": "markdown",
      "source": [],
      "metadata": {
        "id": "mOJznnAua-Cv"
      }
    },
    {
      "cell_type": "code",
      "source": [
        "DeltaH = 10.65*(consumo_total_ms**1.85)/(coeficiente**1.85)*(Dcomecial**4.87)\n",
        "\n",
        "DeltaH"
      ],
      "metadata": {
        "colab": {
          "base_uri": "https://localhost:8080/"
        },
        "id": "1JoOXBqwa9HC",
        "outputId": "faa343a8-e7cb-4118-f84c-d178aec7a07d"
      },
      "execution_count": null,
      "outputs": [
        {
          "output_type": "execute_result",
          "data": {
            "text/plain": [
              "25668.449954931733"
            ]
          },
          "metadata": {},
          "execution_count": 10
        }
      ]
    }
  ]
}